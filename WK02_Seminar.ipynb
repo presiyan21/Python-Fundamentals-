{
 "cells": [
  {
   "cell_type": "code",
   "execution_count": 1,
   "metadata": {},
   "outputs": [
    {
     "name": "stdout",
     "output_type": "stream",
     "text": [
      "List of fruits: ['Apple', 'Banana', 'Cherry', 'Orange', 'Grapes']\n",
      "Tuple of animals: ('Lion', 'Elephant', 'Tiger')\n",
      "Dictionary of programming languages: {'Python': 1991, 'Java': 1995, 'C++': 1985}\n",
      "Set of colours: {'Green', 'Blue', 'Red'}\n",
      "String sentence: Python is an easy-to-learn programming language.\n"
     ]
    }
   ],
   "source": [
    "# Exercise 2: Python Data Types\n",
    "# i. Create a list of 5 different fruits and print the list\n",
    "fruits = [\"Apple\", \"Banana\", \"Cherry\", \"Orange\", \"Grapes\"]\n",
    "print(\"List of fruits:\", fruits)\n",
    "\n",
    "# ii. Create a tuple of 3 different animals and print the tuple\n",
    "animals = (\"Lion\", \"Elephant\", \"Tiger\")\n",
    "print(\"Tuple of animals:\", animals)\n",
    "\n",
    "# iii. Create a dictionary of 3 different key-value pairs (programming languages and release dates)\n",
    "programming_languages = {\n",
    "    \"Python\": 1991,\n",
    "    \"Java\": 1995,\n",
    "    \"C++\": 1985\n",
    "}\n",
    "print(\"Dictionary of programming languages:\", programming_languages)\n",
    "\n",
    "# iv. Create a set of 3 different colours and print the set\n",
    "colours = {\"Red\", \"Blue\", \"Green\"}\n",
    "print(\"Set of colours:\", colours)\n",
    "\n",
    "# v. Create a string variable containing a sentence\n",
    "sentence = \"Python is an easy-to-learn programming language.\"\n",
    "print(\"String sentence:\", sentence)"
   ]
  },
  {
   "cell_type": "code",
   "execution_count": 2,
   "metadata": {},
   "outputs": [
    {
     "name": "stdout",
     "output_type": "stream",
     "text": [
      "The number is negative.\n",
      "The word starts with a consonant.\n",
      "The numbers are not equal.\n"
     ]
    }
   ],
   "source": [
    "# Exercise 3: Conditions\n",
    "# Check if a number is positive, negative, or zero\n",
    "num = float(input(\"Enter a number: \"))\n",
    "if num > 0:\n",
    "    print(\"The number is positive.\")\n",
    "elif num < 0:\n",
    "    print(\"The number is negative.\")\n",
    "else:\n",
    "    print(\"The number is zero.\")\n",
    "\n",
    "# Check if a string starts with a vowel or consonant\n",
    "word = input(\"Enter a word: \").strip().lower()\n",
    "vowels = \"aeiou\"\n",
    "\n",
    "if word:  # Check if the input is not empty\n",
    "    if word[0] in vowels:\n",
    "        print(\"The word starts with a vowel.\")\n",
    "    else:\n",
    "        print(\"The word starts with a consonant.\")\n",
    "else:\n",
    "    print(\"You didn't enter a valid word.\")\n",
    "\n",
    "# Check if two numbers are equal or not\n",
    "num1 = float(input(\"Enter the first number: \"))\n",
    "num2 = float(input(\"Enter the second number: \"))\n",
    "\n",
    "if num1 == num2:\n",
    "    print(\"The numbers are equal.\")\n",
    "else:\n",
    "    print(\"The numbers are not equal.\")"
   ]
  },
  {
   "cell_type": "code",
   "execution_count": 3,
   "metadata": {},
   "outputs": [
    {
     "name": "stdout",
     "output_type": "stream",
     "text": [
      "1\n",
      "2\n",
      "3\n",
      "4\n",
      "5\n",
      "6\n",
      "7\n",
      "8\n",
      "9\n",
      "10\n",
      "\n",
      "\n",
      "2\n",
      "4\n",
      "6\n",
      "8\n",
      "10\n",
      "\n",
      "\n",
      "First 5 Fibonacci numbers: [0, 1, 1, 2, 3]\n"
     ]
    }
   ],
   "source": [
    "# Exercise 4: Loops\n",
    "# i. Print numbers from 1 to 10 using a for loop\n",
    "for num in range(1, 11):\n",
    "    print(num)\n",
    "\n",
    "print(\"\\n\")  # Better readability\n",
    "\n",
    "# ii. Print even numbers from 2 to 10 using a for loop\n",
    "for num in range(2, 11, 2):\n",
    "    print(num)\n",
    "\n",
    "print(\"\\n\")  # Better readability\n",
    "\n",
    "# iii. Print the first 5 numbers of the Fibonacci sequence using a while loop\n",
    "fib_sequence = [0, 1]  # Initialize the Fibonacci sequence\n",
    "count = 2  # Since we already have the first two numbers\n",
    "\n",
    "while count < 5:\n",
    "    next_fib = fib_sequence[-1] + fib_sequence[-2]  # Get the next number\n",
    "    fib_sequence.append(next_fib)\n",
    "    count += 1\n",
    "\n",
    "print(\"First 5 Fibonacci numbers:\", fib_sequence)\n"
   ]
  },
  {
   "cell_type": "code",
   "execution_count": 4,
   "metadata": {},
   "outputs": [
    {
     "name": "stdout",
     "output_type": "stream",
     "text": [
      "Sum of 5 and 10: 15\n",
      "Largest number in [3, 7, 2, 9, 5]: 9\n",
      "Number of vowels in 'Hello World': 3\n"
     ]
    }
   ],
   "source": [
    "# Exercise 5: Functions\n",
    "# i. Function to return the sum of two numbers\n",
    "def add_numbers(num1, num2):\n",
    "    return num1 + num2\n",
    "\n",
    "# ii. Function to return the largest number in a list\n",
    "def find_largest_number(numbers):\n",
    "    if not numbers:  # Check if the list is empty\n",
    "        return None\n",
    "    return max(numbers)\n",
    "\n",
    "# iii. Function to count the number of vowels in a string\n",
    "def count_vowels(string):\n",
    "    vowels = \"aeiouAEIOU\"\n",
    "    count = sum(1 for char in string if char in vowels)\n",
    "    return count\n",
    "\n",
    "# Testing the functions\n",
    "print(\"Sum of 5 and 10:\", add_numbers(5, 10))\n",
    "print(\"Largest number in [3, 7, 2, 9, 5]:\", find_largest_number([3, 7, 2, 9, 5]))\n",
    "print(\"Number of vowels in 'Hello World':\", count_vowels(\"Hello World\"))"
   ]
  },
  {
   "cell_type": "code",
   "execution_count": 5,
   "metadata": {},
   "outputs": [
    {
     "name": "stdout",
     "output_type": "stream",
     "text": [
      "Checking password: Pa$$word123\n",
      "Password is strong\n",
      "\n",
      "Checking password: password\n",
      "Password must contain at least one uppercase letter, at least one special character.\n"
     ]
    }
   ],
   "source": [
    "# Exercise 6: Password Strength Checker\n",
    "import string\n",
    "\n",
    "def check_password_strength(password):\n",
    "    special_characters = string.punctuation  # Special characters like @, #, $, etc.\n",
    "    \n",
    "    errors = []\n",
    "\n",
    "    # Check password length\n",
    "    if len(password) < 8:\n",
    "        errors.append(\"at least 8 characters long\")\n",
    "\n",
    "    # Check for uppercase letter\n",
    "    if not any(char.isupper() for char in password):\n",
    "        errors.append(\"at least one uppercase letter\")\n",
    "\n",
    "    # Check for lowercase letter\n",
    "    if not any(char.islower() for char in password):\n",
    "        errors.append(\"at least one lowercase letter\")\n",
    "\n",
    "    # Check for special character\n",
    "    if not any(char in special_characters for char in password):\n",
    "        errors.append(\"at least one special character\")\n",
    "\n",
    "    # Print results\n",
    "    if errors:\n",
    "        print(\"Password must contain\", \", \".join(errors) + \".\")\n",
    "    else:\n",
    "        print(\"Password is strong\")\n",
    "\n",
    "# Example inputs\n",
    "password1 = \"Pa$$word123\"\n",
    "password2 = \"password\"\n",
    "\n",
    "print(f\"Checking password: {password1}\")\n",
    "check_password_strength(password1)\n",
    "\n",
    "print(f\"\\nChecking password: {password2}\")\n",
    "check_password_strength(password2)"
   ]
  },
  {
   "cell_type": "code",
   "execution_count": 6,
   "metadata": {},
   "outputs": [
    {
     "name": "stdout",
     "output_type": "stream",
     "text": [
      "Encrypted Message: KHOOR\n",
      "Decrypted Message: HELLO\n"
     ]
    }
   ],
   "source": [
    "# Exercise 7: Caesar Cipher\n",
    "def caesar_cipher(message, key, mode):\n",
    "    result = \"\"\n",
    "    \n",
    "    for char in message:\n",
    "        if char.isalpha():  # Only shift letters, keep other characters unchanged\n",
    "            shift = key if mode == \"encrypt\" else -key\n",
    "            start = ord('A') if char.isupper() else ord('a')  # Determine if uppercase or lowercase\n",
    "            new_char = chr((ord(char) - start + shift) % 26 + start)  # Shift within A-Z or a-z\n",
    "            result += new_char\n",
    "        else:\n",
    "            result += char  # Keep non-alphabet characters unchanged\n",
    "    \n",
    "    return result\n",
    "\n",
    "# Example inputs\n",
    "message1 = \"HELLO\"\n",
    "key1 = 3\n",
    "mode1 = \"encrypt\"\n",
    "encrypted_message = caesar_cipher(message1, key1, mode1)\n",
    "print(f\"Encrypted Message: {encrypted_message}\")\n",
    "\n",
    "message2 = \"KHOOR\"\n",
    "mode2 = \"decrypt\"\n",
    "decrypted_message = caesar_cipher(message2, key1, mode2)\n",
    "print(f\"Decrypted Message: {decrypted_message}\")"
   ]
  },
  {
   "cell_type": "code",
   "execution_count": 7,
   "metadata": {},
   "outputs": [
    {
     "name": "stdout",
     "output_type": "stream",
     "text": [
      "Welcome to Hangman!\n",
      "_ _ _ _\n",
      "Incorrect! You have 5 attempts left.\n",
      "_ _ _ _\n",
      "Correct!\n",
      "_ a _ a\n",
      "You've already guessed that letter.\n",
      "Incorrect! You have 4 attempts left.\n",
      "_ a _ a\n",
      "Correct!\n",
      "_ a v a\n",
      "You've already guessed that letter.\n",
      "Incorrect! You have 3 attempts left.\n",
      "_ a v a\n",
      "Incorrect! You have 2 attempts left.\n",
      "_ a v a\n",
      "Correct!\n",
      "j a v a\n",
      "Congratulations! You guessed the word 'java'!\n"
     ]
    }
   ],
   "source": [
    "# Exercise 8: Hangman Game\n",
    "import random\n",
    "\n",
    "def hangman():\n",
    "    # Word list and max incorrect guesses\n",
    "    words = [\"python\", \"java\", \"javascript\"]\n",
    "    word = random.choice(words)  # Randomly select a word\n",
    "    guessed_word = [\"_\"] * len(word)  # Initialize with underscores\n",
    "    guessed_letters = set()  # Track guessed letters\n",
    "    max_attempts = 6\n",
    "    incorrect_guesses = 0\n",
    "\n",
    "    print(\"Welcome to Hangman!\")\n",
    "    print(\" \".join(guessed_word))\n",
    "\n",
    "    while incorrect_guesses < max_attempts:\n",
    "        guess = input(\"Guess a letter: \").lower()\n",
    "\n",
    "        # Input validation\n",
    "        if len(guess) != 1 or not guess.isalpha():\n",
    "            print(\"Please enter a single valid letter.\")\n",
    "            continue\n",
    "        \n",
    "        if guess in guessed_letters:\n",
    "            print(\"You've already guessed that letter.\")\n",
    "            continue\n",
    "\n",
    "        guessed_letters.add(guess)\n",
    "\n",
    "        # Check if the guessed letter is in the word\n",
    "        if guess in word:\n",
    "            for i in range(len(word)):\n",
    "                if word[i] == guess:\n",
    "                    guessed_word[i] = guess\n",
    "            print(\"Correct!\")\n",
    "        else:\n",
    "            incorrect_guesses += 1\n",
    "            print(f\"Incorrect! You have {max_attempts - incorrect_guesses} attempts left.\")\n",
    "\n",
    "        print(\" \".join(guessed_word))\n",
    "\n",
    "        # Check if the player has guessed the word\n",
    "        if \"_\" not in guessed_word:\n",
    "            print(f\"Congratulations! You guessed the word '{word}'!\")\n",
    "            return\n",
    "\n",
    "    print(f\"Game Over! The correct word was '{word}'.\")\n",
    "\n",
    "# Run the game\n",
    "hangman()"
   ]
  }
 ],
 "metadata": {
  "kernelspec": {
   "display_name": "base",
   "language": "python",
   "name": "python3"
  },
  "language_info": {
   "codemirror_mode": {
    "name": "ipython",
    "version": 3
   },
   "file_extension": ".py",
   "mimetype": "text/x-python",
   "name": "python",
   "nbconvert_exporter": "python",
   "pygments_lexer": "ipython3",
   "version": "3.12.4"
  }
 },
 "nbformat": 4,
 "nbformat_minor": 2
}
